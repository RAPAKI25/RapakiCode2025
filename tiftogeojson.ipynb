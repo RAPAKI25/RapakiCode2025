{
 "cells": [
  {
   "cell_type": "code",
   "execution_count": 3,
   "metadata": {},
   "outputs": [],
   "source": [
    "import rasterio\n",
    "from rasterio.features import shapes\n",
    "import json\n",
    "\n"
   ]
  },
  {
   "cell_type": "code",
   "execution_count": 2,
   "metadata": {},
   "outputs": [],
   "source": [
    "\n",
    "# Path to the DEM file\n",
    "dem_path = \"/Users/tomassalazar/Desktop/WUSTL/School/Research Geology UC- FA /RV HYP MAP/Rapaki Misc Data/mosaic_dem.tif\"\n",
    "\n",
    "# Output GeoJSON file\n",
    "geojson_path = \"RVDEM.geojson\"\n",
    "\n"
   ]
  },
  {
   "cell_type": "code",
   "execution_count": 3,
   "metadata": {},
   "outputs": [],
   "source": [
    "\n",
    "# Open the DEM\n",
    "with rasterio.open(dem_path) as src:\n",
    "    # Read the raster data\n",
    "    raster = src.read(1)  # Reading the first band\n",
    "    transform = src.transform  # Affine transformation\n",
    "\n",
    "    # Extract shapes and values\n",
    "    shapes_and_values = shapes(raster, transform=transform)\n",
    "\n",
    "    # Convert shapes and values into GeoJSON format\n",
    "    features = []\n",
    "    for geom, value in shapes_and_values:\n",
    "        features.append({\n",
    "            \"type\": \"Feature\",\n",
    "            \"geometry\": geom,\n",
    "            \"properties\": {\"elevation\": value}\n",
    "        })\n",
    "\n",
    "    # Create a GeoJSON structure\n",
    "    geojson = {\n",
    "        \"type\": \"FeatureCollection\",\n",
    "        \"features\": features\n",
    "    }"
   ]
  },
  {
   "cell_type": "code",
   "execution_count": null,
   "metadata": {},
   "outputs": [],
   "source": [
    "# Write GeoJSON to a file\n",
    "with open(geojson_path, \"w\") as f:\n",
    "    json.dump(geojson, f)\n",
    "\n",
    "print(f\"GeoJSON file saved to {geojson_path}\")"
   ]
  },
  {
   "cell_type": "code",
   "execution_count": 1,
   "metadata": {},
   "outputs": [],
   "source": [
    "from osgeo import gdal\n",
    "import geopandas as gpd\n",
    "from shapely.geometry import Point"
   ]
  },
  {
   "cell_type": "code",
   "execution_count": 4,
   "metadata": {},
   "outputs": [
    {
     "name": "stdout",
     "output_type": "stream",
     "text": [
      "GeoJSON saved to RVDEM.geojson\n"
     ]
    }
   ],
   "source": [
    "ds = gdal.Open(dem_path)\n",
    "band = ds.GetRasterBand(1)  # Get the first band\n",
    "transform = ds.GetGeoTransform()  # Affine transform\n",
    "data = band.ReadAsArray()  # Read the raster as a numpy array\n",
    "\n",
    "# Get raster dimensions\n",
    "cols = ds.RasterXSize\n",
    "rows = ds.RasterYSize\n",
    "\n",
    "# Convert raster to a GeoDataFrame of points\n",
    "points = []\n",
    "for row in range(rows):\n",
    "    for col in range(cols):\n",
    "        x = transform[0] + col * transform[1] + row * transform[2]\n",
    "        y = transform[3] + col * transform[4] + row * transform[5]\n",
    "        value = data[row, col]\n",
    "        if value != band.GetNoDataValue():  # Exclude NoData values\n",
    "            points.append({\"geometry\": Point(x, y), \"elevation\": value})\n",
    "\n",
    "gdf = gpd.GeoDataFrame(points, crs=\"EPSG:4326\")  # Update CRS if needed\n",
    "\n",
    "# Save to GeoJSON\n",
    "gdf.to_file(geojson_path, driver=\"GeoJSON\")\n",
    "\n",
    "print(f\"GeoJSON saved to {geojson_path}\")"
   ]
  }
 ],
 "metadata": {
  "kernelspec": {
   "display_name": "base",
   "language": "python",
   "name": "python3"
  },
  "language_info": {
   "codemirror_mode": {
    "name": "ipython",
    "version": 3
   },
   "file_extension": ".py",
   "mimetype": "text/x-python",
   "name": "python",
   "nbconvert_exporter": "python",
   "pygments_lexer": "ipython3",
   "version": "3.10.12"
  }
 },
 "nbformat": 4,
 "nbformat_minor": 2
}
